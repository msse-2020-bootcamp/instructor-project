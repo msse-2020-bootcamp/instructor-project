{
 "cells": [
  {
   "cell_type": "markdown",
   "metadata": {},
   "source": [
    "# calculate_distance function rewrite\n",
    "\n",
    "We will be rewriting the calculate distance function to use properties of NumPy arrays."
   ]
  },
  {
   "cell_type": "code",
   "execution_count": 27,
   "metadata": {},
   "outputs": [],
   "source": [
    "import math\n",
    "\n",
    "import numpy as np\n",
    "\n",
    "def calculate_distance(coord1, coord2, box_length=None):\n",
    "    \"\"\"\n",
    "    Calculate the distance between two 3D coordinates.\n",
    "    Parameters\n",
    "    ----------\n",
    "    coord1, coord2: list\n",
    "        The atomic coordinates\n",
    "    box_length : float\n",
    "        The box length. If given, the minimum image convention will be used to calculate the distance.\n",
    "\n",
    "    Returns\n",
    "    -------\n",
    "    distance: float\n",
    "        The distance between the two points.\n",
    "    \"\"\"\n",
    "    distance = 0\n",
    "    \n",
    "    for i in range(3):\n",
    "        dim_dist = (coord1[i] - coord2[i])\n",
    "        \n",
    "        if box_length:\n",
    "            dim_dist = dim_dist - box_length * round(dim_dist / box_length)\n",
    "            \n",
    "        dim_dist = dim_dist**2\n",
    "        distance += dim_dist\n",
    "        \n",
    "    distance = math.sqrt(distance)\n",
    "    return distance\n",
    "\n",
    "def calculate_distance_np(coord1, coord2, box_length=None):\n",
    "    \"\"\"\n",
    "    Calculate the distance between two 3D coordinates.\n",
    "    \n",
    "    Parameters\n",
    "    ----------\n",
    "    coord1, coord2 : np.ndarray\n",
    "        The atomic coordinates\n",
    "\n",
    "    Returns\n",
    "    -------\n",
    "    distance: float\n",
    "        The distance between the two points.\n",
    "    \"\"\"\n",
    "    \n",
    "    coord_dist = coord1 - coord2\n",
    "    \n",
    "    if box_length:\n",
    "        coord_dist = coord_dist - box_length * np.round(coord_dist / box_length)\n",
    "    \n",
    "    coord_dist = coord_dist ** 2\n",
    "    \n",
    "    if coord_dist.ndim < 2:\n",
    "        coord_dist = coord_dist.reshape(1, -1)\n",
    "    \n",
    "    coord_dist_sum = coord_dist.sum(axis=1)\n",
    "    \n",
    "    distance = np.sqrt(coord_dist_sum)\n",
    "    \n",
    "    return distance"
   ]
  },
  {
   "cell_type": "code",
   "execution_count": 28,
   "metadata": {},
   "outputs": [
    {
     "name": "stdout",
     "output_type": "stream",
     "text": [
      "8.0\n",
      "[8.]\n",
      "[2.]\n"
     ]
    }
   ],
   "source": [
    "point1 = np.array([0, 0, 0])\n",
    "point2 = np.array([0, 8, 0])\n",
    "\n",
    "print(calculate_distance(point1, point2))\n",
    "print(calculate_distance_np(point1, point2))\n",
    "print(calculate_distance_np(point1, point2, 10))"
   ]
  },
  {
   "cell_type": "code",
   "execution_count": 26,
   "metadata": {},
   "outputs": [
    {
     "data": {
      "text/plain": [
       "1"
      ]
     },
     "execution_count": 26,
     "metadata": {},
     "output_type": "execute_result"
    }
   ],
   "source": [
    "point1.ndim"
   ]
  },
  {
   "cell_type": "code",
   "execution_count": 6,
   "metadata": {},
   "outputs": [
    {
     "name": "stdout",
     "output_type": "stream",
     "text": [
      "[ 0 -8  0]\n"
     ]
    }
   ],
   "source": [
    "dimensional_distance = point1 - point2\n",
    "print(dimensional_distance)"
   ]
  },
  {
   "cell_type": "code",
   "execution_count": 8,
   "metadata": {},
   "outputs": [
    {
     "name": "stdout",
     "output_type": "stream",
     "text": [
      "[ 0 64  0]\n"
     ]
    }
   ],
   "source": [
    "dd2 = dimensional_distance ** 2\n",
    "print(dd2)"
   ]
  },
  {
   "cell_type": "code",
   "execution_count": 10,
   "metadata": {},
   "outputs": [
    {
     "name": "stdout",
     "output_type": "stream",
     "text": [
      "64\n"
     ]
    }
   ],
   "source": [
    "dd2_sum = dd2.sum()\n",
    "print(dd2_sum)"
   ]
  },
  {
   "cell_type": "code",
   "execution_count": 12,
   "metadata": {},
   "outputs": [
    {
     "name": "stdout",
     "output_type": "stream",
     "text": [
      "8.0\n"
     ]
    }
   ],
   "source": [
    "distance = math.sqrt(dd2_sum)\n",
    "print(distance)"
   ]
  },
  {
   "cell_type": "code",
   "execution_count": 30,
   "metadata": {},
   "outputs": [
    {
     "data": {
      "text/plain": [
       "array([8. , 0.5])"
      ]
     },
     "execution_count": 30,
     "metadata": {},
     "output_type": "execute_result"
    }
   ],
   "source": [
    "coord_set1 = np.array([[0, 0, 0], [0, 1, 0]])\n",
    "coord_set2 = np.array([[0, 8, 0], [0, 1.5, 0]])\n",
    "\n",
    "calculate_distance_np(coord_set1, coord_set2)"
   ]
  },
  {
   "cell_type": "code",
   "execution_count": null,
   "metadata": {},
   "outputs": [],
   "source": []
  }
 ],
 "metadata": {
  "kernelspec": {
   "display_name": "Python 3",
   "language": "python",
   "name": "python3"
  },
  "language_info": {
   "codemirror_mode": {
    "name": "ipython",
    "version": 3
   },
   "file_extension": ".py",
   "mimetype": "text/x-python",
   "name": "python",
   "nbconvert_exporter": "python",
   "pygments_lexer": "ipython3",
   "version": "3.7.7"
  }
 },
 "nbformat": 4,
 "nbformat_minor": 4
}
